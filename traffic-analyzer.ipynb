{
 "cells": [
  {
   "cell_type": "code",
   "execution_count": 2,
   "metadata": {},
   "outputs": [],
   "source": [
    "from kamene.all import *\n",
    "from pynq_networking import *\n",
    "from math import log2 \n",
    "\n",
    "A = 0.1 # Smoothing factor\n",
    "WINDOW_SIZE = 30 # in seconds\n",
    "OVERLAP = 0.8\n",
    "INTERVAL_SEC = WINDOW_SIZE - WINDOW_SIZE*OVERLAP\n",
    "PARAMS = [\"src\", \"sport\", \"dport\"]\n",
    "\n",
    "# Observed entropies\n",
    "H = []\n",
    "\n",
    "# Predicted entropies\n",
    "H_predict = []\n",
    "\n",
    "# Parameters entropy prediction error\n",
    "err = []\n",
    "\n",
    "# Anomaly score\n",
    "d = 0"
   ]
  },
  {
   "cell_type": "code",
   "execution_count": null,
   "metadata": {},
   "outputs": [],
   "source": [
    "overlap_flows = [[] for i in range(OVERLAP/(1-OVERLAP))]\n",
    "overlap_flows_count = [[] for i in range(OVERLAP/(1-OVERLAP))]\n",
    "overlap_flows_pkts = [0 for i in range(OVERLAP/(1-OVERLAP))]\n",
    "current_flows = []\n",
    "current_flows_count = []\n",
    "current_packets = 0\n",
    "def shift_flows():\n",
    "    for i in range(len(overlap_flows-1)):\n",
    "        overlap_flows[i] = overlap_flows[i+1]\n",
    "        overlap_flows_count[i] = overlap_flows_count[i+1]\n",
    "        overlap_flows_pkts[i] = overlap_flows_pkts[i+1]\n",
    "    overlap_flows[len(overlap_flows)-1] = current_flows\n",
    "    overlap_flows[len(overlap_flows)-1] = current_flows_count\n",
    "    overlap_flows_pkts[len(overlap_flows)-1] = current_packets"
   ]
  },
  {
   "cell_type": "code",
   "execution_count": 1,
   "metadata": {},
   "outputs": [],
   "source": [
    "def packet_processing(packet):\n",
    "    current_packets =  current_packets + 1\n",
    "    flow = {}\n",
    "    if(TCP in packet):\n",
    "        flow = {\"src\": packet[TCP].src, \"sport\":packet[TCP].sport, \"dport\": packet[TCP].dport}            \n",
    "    elif(UDP in packet):\n",
    "        flow = {\"src\": packet[UDP].src, \"sport\":packet[UDP].sport, \"dport\": packet[UDP].dport}\n",
    "    if(flow != {} and (flow not in current_flows):\n",
    "        current_flows.append(flow)\n",
    "        current_flows_count.append(1)\n",
    "    else:\n",
    "        i = current_flows.index(flow)\n",
    "        current_flows_count[i] = current_flows_count[i] + 1"
   ]
  },
  {
   "cell_type": "code",
   "execution_count": null,
   "metadata": {},
   "outputs": [],
   "source": [
    "def calc_entropy(param):\n",
    "    values = []\n",
    "    freqs = []\n",
    "    for i in len(overlap_flows):\n",
    "        for j in len(overlap_flows[i]):\n",
    "            if((overlap_flows[i][j][param] not in values):\n",
    "                values.append(overlap_flows[i][j][param])\n",
    "                freqs.append(1)\n",
    "            else:\n",
    "                index = values.index(overlap_flows[i][j][param])\n",
    "                freqs[index] = freq[index] + overlap_flows_count[i][j]\n",
    "    entropy = 0\n",
    "    for i in range(len(freq)):\n",
    "        p = freqs[i][param] / current_packets\n",
    "        entropy = entropy - p*log2(p)\n",
    "    entropy = entropy / log2(current_packets) # Normalize entropy\n",
    "    return entropy\n",
    "    \n",
    "def predict_entropy(param):\n",
    "    return H_predict[PARAMS.index(param)]*(1-A) + H[PARAMS.index(param)]*A\n",
    "    \n",
    "def calc_error(params):\n",
    "    return abs(H_predict[PARAMS.index(param)]-H[PARAMS.index(param)])"
   ]
  },
  {
   "cell_type": "code",
   "execution_count": null,
   "metadata": {},
   "outputs": [],
   "source": [
    "for i in range(len(overlap_flows)):\n",
    "    clear_output(wait=True)\n",
    "    pkt_trace = sniff(iface=\"br0\",\n",
    "                      timeout = INTERVAL_SEC, filter=\"tcp or udp\",\n",
    "                      prn=lambda x: packet_processing(x))\n",
    "    shift_flows()\n",
    "    \n",
    "pkt_trace = sniff(iface=\"br0\",\n",
    "                  timeout = INTERVAL_SEC, filter=\"tcp or udp\",\n",
    "                  prn=lambda x: packet_processing(x))\n",
    "H = map(PARAMS, calc_entropy)\n",
    "H_predict = map(PARAMS, predict_entropy)"
   ]
  },
  {
   "cell_type": "code",
   "execution_count": null,
   "metadata": {
    "scrolled": true
   },
   "outputs": [],
   "source": [
    "while(True):\n",
    "    clear_output(wait=True)\n",
    "    pkt_trace = sniff(iface=\"br0\",\n",
    "                      timeout = INTERVAL_SEC, filter=\"tcp or udp\",\n",
    "                      prn=lambda x: packet_processing(x))\n",
    "    H = map(PARAMS, calc_entropy)\n",
    "    err = map(PARAMS, calc_error)\n",
    "    draw_graphs()\n",
    "    H_predict = map(PARAMS, predict_entropy)"
   ]
  },
  {
   "cell_type": "code",
   "execution_count": null,
   "metadata": {},
   "outputs": [],
   "source": [
    "import matplotlib.pyplot as plt\n",
    "from collections import Counter\n",
    "\n",
    "def draw_graphs():\n",
    "    while(True):\n",
    "        types = [\"ARP\" if ARP in x else \n",
    "                 \"MQTTSN\" if MQTTSN in x else\n",
    "                 \"IPV6_UDP\" if ((UDP in x) and (IPv6 in x)) else\n",
    "                 \"UDP\" if (UDP in x) else\n",
    "                 \"IPV6_TCP\" if ((TCP in x) and (IPv6 in x)) else\n",
    "                 \"TCP\" if (TCP in x) else\n",
    "                 \"Unknown\" for x in pkt_trace]\n",
    "        counts = Counter(types)\n",
    "        frequencies = counts.values()\n",
    "        names = [x for x in counts.keys()]\n",
    "        centers = range(len(counts))\n",
    "        plt.bar(centers, frequencies, align='center', tick_label=names)\n",
    "        plt.title(\"Histogram of received packet types\")\n",
    "        plt.draw()\n",
    "        plt.pause(INTERVAL_SEC)\n",
    "        plt.cla()"
   ]
  }
 ],
 "metadata": {
  "kernelspec": {
   "display_name": "Python 3",
   "language": "python",
   "name": "python3"
  },
  "language_info": {
   "codemirror_mode": {
    "name": "ipython",
    "version": 3
   },
   "file_extension": ".py",
   "mimetype": "text/x-python",
   "name": "python",
   "nbconvert_exporter": "python",
   "pygments_lexer": "ipython3",
   "version": "3.6.5"
  }
 },
 "nbformat": 4,
 "nbformat_minor": 2
}

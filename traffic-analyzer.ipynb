{
 "cells": [
  {
   "cell_type": "code",
   "execution_count": 2,
   "metadata": {},
   "outputs": [],
   "source": [
    "from kamene.all import *\n",
    "from pynq_networking import *\n",
    "\n",
    "A = 0.1 # Smoothing factor\n",
    "WINDOW_SIZE = 30 # in seconds\n",
    "OVERLAP = 0.8\n",
    "INTERVAL_SEC = WINDOW_SIZE - WINDOW_SIZE*OVERLAP\n",
    "\n",
    "# Observed entropies\n",
    "H_src = 0\n",
    "H_sport = 0\n",
    "H_dport = 0\n",
    "\n",
    "# Predicted entropies\n",
    "H_src_predict = 0\n",
    "H_sport_predict = 0\n",
    "H_dport_predict = 0\n",
    "\n",
    "d = 0         # Anomaly score\n",
    "err_src = 0   # Source IP prediction error\n",
    "err_sport = 0 # Source port prediction error\n",
    "err_dport = 0 # Destination port prediction error"
   ]
  },
  {
   "cell_type": "code",
   "execution_count": null,
   "metadata": {},
   "outputs": [],
   "source": [
    "overlap_flows = [[] for i in range(OVERLAP/(1-OVERLAP))]\n",
    "current_flows = []\n",
    "def shift_flows():\n",
    "    for i in range(len(overlap_flows-1)):\n",
    "        overlap_flows[i] = overlap_flows[i+1]\n",
    "    overlap_flows[len(overlap_flows)-1] = current_flows"
   ]
  },
  {
   "cell_type": "code",
   "execution_count": 1,
   "metadata": {},
   "outputs": [],
   "source": [
    "def packet_processing(packet):\n",
    "    if(TCP in packet):\n",
    "        print(\"Source: \", packet[TCP].src, \":\", packet[TCP].sport,\n",
    "             \"\\nDestination port: \", packet[TCP].dport)\n",
    "        flow = {\"src\": packet[TCP].src, \"sport\":packet[TCP].sport, \"dport\": packet[TCP].dport}\n",
    "        if flow not in current_flows:\n",
    "            current_flows.append({flow: 0})\n",
    "        else:\n",
    "            current_flows[flow] = current_flows[flow] + 1\n",
    "    elif(UDP in packet):\n",
    "        print(\"Source: \", packet[UDP].src, \":\", packet[UDP].sport,\n",
    "             \"\\nDestination port: \", packet[UDP].dport)\n",
    "        flow = {\"src\": packet[UDP].src, \"sport\":packet[UDP].sport, \"dport\": packet[UDP].dport}\n",
    "        if flow not in current_flows:\n",
    "            current_flows.append({flow: 0})\n",
    "        else:\n",
    "            current_flows[flow] = current_flows[flow] + 1"
   ]
  },
  {
   "cell_type": "code",
   "execution_count": null,
   "metadata": {},
   "outputs": [],
   "source": [
    "def calc_entropy():\n",
    "    src = []\n",
    "    sport = []\n",
    "    dport = []\n",
    "    for x in overlap_flows:\n",
    "        for flow in x:\n",
    "            if(flow[\"src\"] in src):\n",
    "                src.append(flow[\"src\"] : 0)\n",
    "            else:\n",
    "                src[flow[\"src\"]] = src[flow[\"src\"]] + 1\n",
    "            \n",
    "            if(flow[\"sport\"] in src):\n",
    "                src.append(flow[\"sport\"] : 0)\n",
    "            else:\n",
    "                src[flow[\"sport\"]] = src[flow[\"sport\"]] + 1\n",
    "                \n",
    "            if(flow[\"dport\"] in src):\n",
    "                src.append(flow[\"dport\"] : 0)\n",
    "            else:\n",
    "                src[flow[\"dport\"]] = src[flow[\"dport\"]] + 1\n",
    "    \n",
    "def predict_entropy():\n",
    "    \n",
    "    \n",
    "def calc_error():"
   ]
  },
  {
   "cell_type": "code",
   "execution_count": null,
   "metadata": {},
   "outputs": [],
   "source": [
    "import signal, time\n",
    "from IPython.display import clear_output\n",
    "\n",
    "def time_out(signum, frame):\n",
    "    raise KeyboardInterrupt\n",
    "\n",
    "for i in range(len(overlap_flows)):\n",
    "    clear_output(wait=True)\n",
    "    pkt_trace = sniff(iface=\"br0\",\n",
    "                      timeout = INTERVAL_SEC, filter=\"tcp or udp\",\n",
    "                      prn=lambda x: packet_processing(x))\n",
    "    shift_flows()\n",
    "    \n",
    "pkt_trace = sniff(iface=\"br0\",\n",
    "                  timeout = INTERVAL_SEC, filter=\"tcp or udp\",\n",
    "                  prn=lambda x: packet_processing(x))\n",
    "calc_entropy()\n",
    "predict_entropy()"
   ]
  },
  {
   "cell_type": "code",
   "execution_count": null,
   "metadata": {
    "scrolled": true
   },
   "outputs": [],
   "source": [
    "while(True):\n",
    "    clear_output(wait=True)\n",
    "    pkt_trace = sniff(iface=\"br0\",\n",
    "                      timeout = INTERVAL_SEC, filter=\"tcp or udp\",\n",
    "                      prn=lambda x: packet_processing(x))\n",
    "    calc_entropy()\n",
    "    calc_error()\n",
    "    predict_entropy()"
   ]
  },
  {
   "cell_type": "code",
   "execution_count": null,
   "metadata": {},
   "outputs": [],
   "source": [
    "import matplotlib.pyplot as plt\n",
    "from collections import Counter\n",
    "\n",
    "def draw_graphs():\n",
    "    while(True):\n",
    "        types = [\"ARP\" if ARP in x else \n",
    "                 \"MQTTSN\" if MQTTSN in x else\n",
    "                 \"IPV6_UDP\" if ((UDP in x) and (IPv6 in x)) else\n",
    "                 \"UDP\" if (UDP in x) else\n",
    "                 \"IPV6_TCP\" if ((TCP in x) and (IPv6 in x)) else\n",
    "                 \"TCP\" if (TCP in x) else\n",
    "                 \"Unknown\" for x in pkt_trace]\n",
    "        counts = Counter(types)\n",
    "        frequencies = counts.values()\n",
    "        names = [x for x in counts.keys()]\n",
    "        centers = range(len(counts))\n",
    "        plt.bar(centers, frequencies, align='center', tick_label=names)\n",
    "        plt.title(\"Histogram of received packet types\")\n",
    "        plt.draw()\n",
    "        plt.pause(INTERVAL_SEC)\n",
    "        plt.cla()"
   ]
  }
 ],
 "metadata": {
  "kernelspec": {
   "display_name": "Python 3",
   "language": "python",
   "name": "python3"
  },
  "language_info": {
   "codemirror_mode": {
    "name": "ipython",
    "version": 3
   },
   "file_extension": ".py",
   "mimetype": "text/x-python",
   "name": "python",
   "nbconvert_exporter": "python",
   "pygments_lexer": "ipython3",
   "version": "3.6.5"
  }
 },
 "nbformat": 4,
 "nbformat_minor": 2
}

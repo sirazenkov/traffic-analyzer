{
 "cells": [
  {
   "cell_type": "code",
   "execution_count": 1,
   "metadata": {},
   "outputs": [
    {
     "data": {
      "application/javascript": [
       "\n",
       "try {\n",
       "require(['notebook/js/codecell'], function(codecell) {\n",
       "  codecell.CodeCell.options_default.highlight_modes[\n",
       "      'magic_text/x-csrc'] = {'reg':[/^%%microblaze/]};\n",
       "  Jupyter.notebook.events.one('kernel_ready.Kernel', function(){\n",
       "      Jupyter.notebook.get_cells().map(function(cell){\n",
       "          if (cell.cell_type == 'code'){ cell.auto_highlight(); } }) ;\n",
       "  });\n",
       "});\n",
       "} catch (e) {};\n"
      ]
     },
     "metadata": {},
     "output_type": "display_data"
    },
    {
     "data": {
      "application/javascript": [
       "\n",
       "try {\n",
       "require(['notebook/js/codecell'], function(codecell) {\n",
       "  codecell.CodeCell.options_default.highlight_modes[\n",
       "      'magic_text/x-csrc'] = {'reg':[/^%%pybind11/]};\n",
       "  Jupyter.notebook.events.one('kernel_ready.Kernel', function(){\n",
       "      Jupyter.notebook.get_cells().map(function(cell){\n",
       "          if (cell.cell_type == 'code'){ cell.auto_highlight(); } }) ;\n",
       "  });\n",
       "});\n",
       "} catch (e) {};\n"
      ]
     },
     "metadata": {},
     "output_type": "display_data"
    }
   ],
   "source": [
    "import logging\n",
    "logging.getLogger(\"kamene.runtime\").setLevel(logging.ERROR)\n",
    "from kamene.all import *\n",
    "from pynq_networking import *\n",
    "from math import log2 \n",
    "\n",
    "A = 0.1 # Smoothing factor\n",
    "WINDOW_SIZE = 10 # in seconds\n",
    "OVERLAP = 0.8\n",
    "INTERVAL_SEC = WINDOW_SIZE - WINDOW_SIZE*OVERLAP\n",
    "PARAMS = [\"src\", \"sport\", \"dport\", \"length\"]\n",
    "LOCALHOST = \"192.168.1.6\"\n",
    "FILTER = \"dst \" + LOCALHOST +\" and (tcp or udp)\"\n",
    "\n",
    "# Observed entropies\n",
    "H = []\n",
    "H_archive = [[] for i in range(len(PARAMS))]\n",
    "\n",
    "# Predicted entropies\n",
    "H_predict = [0,0,0,0]\n",
    "\n",
    "# Parameters entropy prediction error\n",
    "err = []\n",
    "\n",
    "d = 0 # Anomaly score\n",
    "d_archive = []\n",
    "\n",
    "timeline = []"
   ]
  },
  {
   "cell_type": "code",
   "execution_count": 2,
   "metadata": {},
   "outputs": [],
   "source": [
    "overlap_flows = [[] for i in range(int(OVERLAP/(1-OVERLAP)))]\n",
    "overlap_flows_count = [[] for i in range(int(OVERLAP/(1-OVERLAP)))]\n",
    "overlap_flows_pkts = [0 for i in range(int(OVERLAP/(1-OVERLAP)))]\n",
    "current_flows = []\n",
    "current_flows_count = []\n",
    "current_flows_pkts = 0\n",
    "def shift_flows():\n",
    "    for i in range(len(overlap_flows)-1):\n",
    "        overlap_flows[i] = overlap_flows[i+1]\n",
    "        overlap_flows_count[i] = overlap_flows_count[i+1]\n",
    "        overlap_flows_pkts[i] = overlap_flows_pkts[i+1]\n",
    "    overlap_flows[len(overlap_flows)-1] = current_flows\n",
    "    overlap_flows_count[len(overlap_flows)-1] = current_flows_count\n",
    "    overlap_flows_pkts[len(overlap_flows)-1] = current_flows_pkts"
   ]
  },
  {
   "cell_type": "code",
   "execution_count": 3,
   "metadata": {},
   "outputs": [],
   "source": [
    "def packet_processing(packet):\n",
    "    global current_flows_pkts\n",
    "    global current_flows\n",
    "    global current_flows_count\n",
    "    \n",
    "    current_flows_pkts = current_flows_pkts + 1\n",
    "    flow = {}\n",
    "    if(IP in packet):\n",
    "        flow = {'src': packet[IP].src, 'sport': packet[IP].sport, 'dport': packet[IP].dport, 'length': len(packet)}\n",
    "        if(flow not in current_flows):\n",
    "            current_flows.append(flow)\n",
    "            current_flows_count.append(1)\n",
    "        else:\n",
    "            i = current_flows.index(flow)\n",
    "            current_flows_count[i] = current_flows_count[i] + 1"
   ]
  },
  {
   "cell_type": "code",
   "execution_count": 4,
   "metadata": {},
   "outputs": [],
   "source": [
    "def calc_entropy(param):\n",
    "    global overlap_flows\n",
    "    global current_flows_pkts\n",
    "    \n",
    "    values = []\n",
    "    freqs = []\n",
    "    for i in range(len(overlap_flows)):\n",
    "        for j in range(len(overlap_flows[i])):\n",
    "            if(overlap_flows[i][j][param] not in values):\n",
    "                values.append(overlap_flows[i][j][param])\n",
    "                freqs.append(overlap_flows_count[i][j])\n",
    "            else:\n",
    "                index = values.index(overlap_flows[i][j][param])\n",
    "                freqs[index] = freqs[index] + overlap_flows_count[i][j]\n",
    "    for i in range(len(current_flows)):\n",
    "            if(current_flows[i][param] not in values):\n",
    "                values.append(current_flows[i][param])\n",
    "                freqs.append(current_flows_count[i])\n",
    "            else:\n",
    "                index = values.index(current_flows[i][param])\n",
    "                freqs[index] = freqs[index] + current_flows_count[i]\n",
    "    entropy = 0\n",
    "    packets_in_window = sum(overlap_flows_pkts) + current_flows_pkts\n",
    "    if(packets_in_window > 1):\n",
    "        for i in range(len(freqs)):\n",
    "            p = freqs[i] / packets_in_window\n",
    "            entropy = entropy - p*log2(p)\n",
    "        entropy = entropy / log2(packets_in_window) # Normalize entropy\n",
    "    return entropy\n",
    "    \n",
    "def predict_entropy(param):\n",
    "    global PARAMS\n",
    "    global A\n",
    "    global H_predict\n",
    "    return H_predict[PARAMS.index(param)]*(1-A) + H[PARAMS.index(param)]*A\n",
    "    \n",
    "def calc_error(param):\n",
    "    global PARAMS\n",
    "    global H_predict\n",
    "    return abs(H_predict[PARAMS.index(param)]-H[PARAMS.index(param)])"
   ]
  },
  {
   "cell_type": "code",
   "execution_count": null,
   "metadata": {
    "scrolled": true
   },
   "outputs": [],
   "source": [
    "# Preparation stage\n",
    "for i in range(len(overlap_flows)):\n",
    "    pkt_trace = sniff(iface=\"br0\",\n",
    "                      timeout = INTERVAL_SEC, filter=FILTER,\n",
    "                      prn=lambda x: packet_processing(x))\n",
    "    shift_flows()\n",
    "    \n",
    "pkt_trace = sniff(iface=\"br0\",\n",
    "                  timeout = INTERVAL_SEC, filter=FILTER,\n",
    "                  prn=lambda x: packet_processing(x))\n",
    "H = list(map(calc_entropy, PARAMS))\n",
    "H_predict = list(map(predict_entropy, PARAMS))"
   ]
  },
  {
   "cell_type": "code",
   "execution_count": null,
   "metadata": {
    "scrolled": false
   },
   "outputs": [
    {
     "data": {
      "image/png": "[encoded data removed]",
      "text/plain": [
       "<matplotlib.figure.Figure at 0xad929530>"
      ]
     },
     "metadata": {},
     "output_type": "display_data"
    },
    {
     "data": {
      "image/png": "[encoded data removed]",
      "text/plain": [
       "<matplotlib.figure.Figure at 0xada17c70>"
      ]
     },
     "metadata": {},
     "output_type": "display_data"
    }
   ],
   "source": [
    "import matplotlib.pyplot as plt \n",
    "from IPython.display import clear_output\n",
    "\n",
    "while(True):\n",
    "    clear_output(wait=True)\n",
    "    plt.subplot(121)\n",
    "    for i in range(len(PARAMS)):\n",
    "        plt.plot(timeline, H_archive[i], label=PARAMS[i]);\n",
    "    plt.xlabel(\"Seconds\")\n",
    "    plt.legend(loc=\"lower right\")\n",
    "    plt.title('Entropy')\n",
    "    plt.subplot(122)\n",
    "    plt.plot(timeline, d_archive)\n",
    "    plt.title('Anomaly score')\n",
    "    plt.show()\n",
    "    \n",
    "    shift_flows()\n",
    "    pkt_trace = sniff(iface=\"br0\",\n",
    "                      timeout = INTERVAL_SEC, filter=FILTER,\n",
    "                      prn=lambda x: packet_processing(x))\n",
    "    if(len(timeline) == 0):\n",
    "        timeline.append(INTERVAL_SEC)\n",
    "    else:\n",
    "        timeline.append(timeline[-1]+INTERVAL_SEC)\n",
    "    for i in range(len(PARAMS)):\n",
    "        H_archive[i].append(H[i])\n",
    "    d_archive.append(d)\n",
    "    \n",
    "    H = list(map(calc_entropy, PARAMS))\n",
    "    err = list(map(calc_error, PARAMS))\n",
    "    d = sum(err)\n",
    "    H_predict = list(map(predict_entropy, PARAMS))"
   ]
  },
  {
   "cell_type": "code",
   "execution_count": null,
   "metadata": {},
   "outputs": [],
   "source": []
  }
 ],
 "metadata": {
  "kernelspec": {
   "display_name": "Python 3",
   "language": "python",
   "name": "python3"
  },
  "language_info": {
   "codemirror_mode": {
    "name": "ipython",
    "version": 3
   },
   "file_extension": ".py",
   "mimetype": "text/x-python",
   "name": "python",
   "nbconvert_exporter": "python",
   "pygments_lexer": "ipython3",
   "version": "3.6.5"
  }
 },
 "nbformat": 4,
 "nbformat_minor": 2
}

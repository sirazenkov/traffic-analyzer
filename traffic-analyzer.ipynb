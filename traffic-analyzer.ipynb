{
 "cells": [
  {
   "cell_type": "code",
   "execution_count": 1,
   "metadata": {},
   "outputs": [
    {
     "data": {
      "application/javascript": [
       "\n",
       "try {\n",
       "require(['notebook/js/codecell'], function(codecell) {\n",
       "  codecell.CodeCell.options_default.highlight_modes[\n",
       "      'magic_text/x-csrc'] = {'reg':[/^%%microblaze/]};\n",
       "  Jupyter.notebook.events.one('kernel_ready.Kernel', function(){\n",
       "      Jupyter.notebook.get_cells().map(function(cell){\n",
       "          if (cell.cell_type == 'code'){ cell.auto_highlight(); } }) ;\n",
       "  });\n",
       "});\n",
       "} catch (e) {};\n"
      ]
     },
     "metadata": {},
     "output_type": "display_data"
    },
    {
     "data": {
      "application/javascript": [
       "\n",
       "try {\n",
       "require(['notebook/js/codecell'], function(codecell) {\n",
       "  codecell.CodeCell.options_default.highlight_modes[\n",
       "      'magic_text/x-csrc'] = {'reg':[/^%%pybind11/]};\n",
       "  Jupyter.notebook.events.one('kernel_ready.Kernel', function(){\n",
       "      Jupyter.notebook.get_cells().map(function(cell){\n",
       "          if (cell.cell_type == 'code'){ cell.auto_highlight(); } }) ;\n",
       "  });\n",
       "});\n",
       "} catch (e) {};\n"
      ]
     },
     "metadata": {},
     "output_type": "display_data"
    }
   ],
   "source": [
    "import logging\n",
    "logging.getLogger(\"kamene.runtime\").setLevel(logging.ERROR)\n",
    "from kamene.all import *\n",
    "from pynq_networking import *\n",
    "from math import log2 \n",
    "\n",
    "A = 0.1 # Smoothing factor\n",
    "WINDOW_SIZE = 30 # in seconds\n",
    "OVERLAP = 0.8\n",
    "INTERVAL_SEC = WINDOW_SIZE - WINDOW_SIZE*OVERLAP\n",
    "PARAMS = [\"src\", \"sport\", \"dport\"]\n",
    "FILTER = \"dst 192.168.1.6 and (tcp or udp)\"\n",
    "\n",
    "# Observed entropies\n",
    "H = []\n",
    "H_archive = [[] for i in range(len(PARAMS))]\n",
    "\n",
    "# Predicted entropies\n",
    "H_predict = []\n",
    "\n",
    "# Parameters entropy prediction error\n",
    "err = []\n",
    "\n",
    "d = 0 # Anomaly score\n",
    "d_archive = []\n",
    "\n",
    "timeline = []"
   ]
  },
  {
   "cell_type": "code",
   "execution_count": 2,
   "metadata": {},
   "outputs": [],
   "source": [
    "overlap_flows = [[] for i in range(int(OVERLAP/(1-OVERLAP)))]\n",
    "overlap_flows_count = [[] for i in range(int(OVERLAP/(1-OVERLAP)))]\n",
    "overlap_flows_pkts = [0 for i in range(int(OVERLAP/(1-OVERLAP)))]\n",
    "current_flows = []\n",
    "current_flows_count = []\n",
    "current_flows_pkts = 0\n",
    "def shift_flows():\n",
    "    for i in range(len(overlap_flows)-1):\n",
    "        overlap_flows[i] = overlap_flows[i+1]\n",
    "        overlap_flows_count[i] = overlap_flows_count[i+1]\n",
    "        overlap_flows_pkts[i] = overlap_flows_pkts[i+1]\n",
    "    overlap_flows[len(overlap_flows)-1] = current_flows\n",
    "    overlap_flows[len(overlap_flows)-1] = current_flows_count\n",
    "    overlap_flows_pkts[len(overlap_flows)-1] = current_flows_pkts"
   ]
  },
  {
   "cell_type": "code",
   "execution_count": 3,
   "metadata": {},
   "outputs": [],
   "source": [
    "def packet_processing(packet):\n",
    "    global current_flows_pkts\n",
    "    current_flows_pkts = current_flows_pkts + 1\n",
    "    flow = {}\n",
    "    if(IP in packet):\n",
    "        print('src: ',  packet[IP].src, '; sport: ', packet[IP].sport, '; dport: ', packet[IP].dport)\n",
    "        flow = {'src': packet[IP].src, 'sport': packet[IP].sport, 'dport': packet[IP].dport}            \n",
    "    if(flow != {} and (flow not in current_flows)):\n",
    "        current_flows.append(flow)\n",
    "        current_flows_count.append(1)\n",
    "    else:\n",
    "        i = current_flows.index(flow)\n",
    "        current_flows_count[i] = current_flows_count[i] + 1"
   ]
  },
  {
   "cell_type": "code",
   "execution_count": 4,
   "metadata": {},
   "outputs": [],
   "source": [
    "def calc_entropy(param):\n",
    "    values = []\n",
    "    freqs = []\n",
    "    for i in len(overlap_flows):\n",
    "        for j in len(overlap_flows[i]):\n",
    "            if(overlap_flows[i][j][param] not in values):\n",
    "                values.append(overlap_flows[i][j][param])\n",
    "                freqs.append(1)\n",
    "            else:\n",
    "                index = values.index(overlap_flows[i][j][param])\n",
    "                freqs[index] = freq[index] + overlap_flows_count[i][j]\n",
    "    entropy = 0\n",
    "    for i in range(len(freq)):\n",
    "        p = freqs[i][param] / current_packets\n",
    "        entropy = entropy - p*log2(p)\n",
    "    entropy = entropy / log2(current_packets) # Normalize entropy\n",
    "    return entropy\n",
    "    \n",
    "def predict_entropy(param):\n",
    "    return H_predict[PARAMS.index(param)]*(1-A) + H[PARAMS.index(param)]*A\n",
    "    \n",
    "def calc_error(params):\n",
    "    return abs(H_predict[PARAMS.index(param)]-H[PARAMS.index(param)])"
   ]
  },
  {
   "cell_type": "code",
   "execution_count": 5,
   "metadata": {
    "scrolled": false
   },
   "outputs": [
    {
     "name": "stdout",
     "output_type": "stream",
     "text": [
      "src:  240.143.79.36 ; sport:  21350 ; dport:  51522\n",
      "src:  240.143.79.36 ; sport:  21350 ; dport:  51522\n",
      "src:  240.143.79.36 ; sport:  21350 ; dport:  51522\n",
      "src:  240.143.79.36 ; sport:  21350 ; dport:  51522\n",
      "src:  240.143.79.36 ; sport:  21350 ; dport:  51522\n",
      "src:  192.168.1.15 ; sport:  22604 ; dport:  9090\n",
      "src:  192.168.1.15 ; sport:  22604 ; dport:  9090\n",
      "src:  192.168.1.15 ; sport:  22604 ; dport:  9090\n",
      "src:  192.168.1.15 ; sport:  22604 ; dport:  9090\n",
      "src:  22.7.198.68 ; sport:  20964 ; dport:  15757\n",
      "src:  22.7.198.68 ; sport:  20964 ; dport:  15757\n",
      "src:  22.7.198.68 ; sport:  20964 ; dport:  15757\n",
      "src:  22.7.198.68 ; sport:  20964 ; dport:  15757\n",
      "src:  22.7.198.68 ; sport:  20964 ; dport:  15757\n",
      "src:  192.168.1.15 ; sport:  22604 ; dport:  9090\n",
      "src:  192.168.1.15 ; sport:  22604 ; dport:  9090\n",
      "src:  192.168.1.15 ; sport:  22604 ; dport:  9090\n",
      "src:  192.168.1.15 ; sport:  22604 ; dport:  9090\n",
      "src:  226.15.5.158 ; sport:  25461 ; dport:  40975\n",
      "src:  226.15.5.158 ; sport:  25461 ; dport:  40975\n",
      "src:  226.15.5.158 ; sport:  25461 ; dport:  40975\n",
      "src:  226.15.5.158 ; sport:  25461 ; dport:  40975\n",
      "src:  226.15.5.158 ; sport:  25461 ; dport:  40975\n",
      "src:  192.168.1.15 ; sport:  22604 ; dport:  9090\n",
      "src:  192.168.1.15 ; sport:  22604 ; dport:  9090\n",
      "src:  192.168.1.15 ; sport:  22604 ; dport:  9090\n",
      "src:  192.168.1.15 ; sport:  22604 ; dport:  9090\n",
      "src:  192.168.1.15 ; sport:  22604 ; dport:  9090\n",
      "src:  82.171.22.228 ; sport:  31248 ; dport:  55205\n",
      "src:  82.171.22.228 ; sport:  31248 ; dport:  55205\n",
      "src:  82.171.22.228 ; sport:  31248 ; dport:  55205\n",
      "src:  82.171.22.228 ; sport:  31248 ; dport:  55205\n",
      "src:  192.168.1.15 ; sport:  22604 ; dport:  9090\n",
      "src:  82.171.22.228 ; sport:  31248 ; dport:  55205\n",
      "src:  192.168.1.15 ; sport:  22604 ; dport:  9090\n",
      "src:  192.168.1.15 ; sport:  22604 ; dport:  9090\n",
      "src:  192.168.1.15 ; sport:  22604 ; dport:  9090\n",
      "src:  192.168.1.15 ; sport:  22604 ; dport:  9090\n",
      "src:  14.231.179.60 ; sport:  30948 ; dport:  49929\n",
      "src:  14.231.179.60 ; sport:  30948 ; dport:  49929\n",
      "src:  14.231.179.60 ; sport:  30948 ; dport:  49929\n",
      "src:  14.231.179.60 ; sport:  30948 ; dport:  49929\n",
      "src:  14.231.179.60 ; sport:  30948 ; dport:  49929\n",
      "src:  192.168.1.15 ; sport:  22604 ; dport:  9090\n",
      "src:  192.168.1.15 ; sport:  22059 ; dport:  9090\n",
      "src:  6.143.168.173 ; sport:  27726 ; dport:  36371\n",
      "src:  6.143.168.173 ; sport:  27726 ; dport:  36371\n",
      "src:  6.143.168.173 ; sport:  27726 ; dport:  36371\n",
      "src:  6.143.168.173 ; sport:  27726 ; dport:  36371\n",
      "src:  6.143.168.173 ; sport:  27726 ; dport:  36371\n",
      "src:  192.168.1.15 ; sport:  22604 ; dport:  9090\n",
      "src:  192.168.1.15 ; sport:  22604 ; dport:  9090\n",
      "src:  192.168.1.15 ; sport:  22604 ; dport:  9090\n",
      "src:  192.168.1.15 ; sport:  22604 ; dport:  9090\n",
      "src:  239.44.98.238 ; sport:  29251 ; dport:  60402\n",
      "src:  239.44.98.238 ; sport:  29251 ; dport:  60402\n",
      "src:  239.44.98.238 ; sport:  29251 ; dport:  60402\n",
      "src:  239.44.98.238 ; sport:  29251 ; dport:  60402\n",
      "src:  239.44.98.238 ; sport:  29251 ; dport:  60402\n",
      "src:  192.168.1.15 ; sport:  22604 ; dport:  9090\n",
      "src:  192.168.1.15 ; sport:  22604 ; dport:  9090\n",
      "src:  192.168.1.15 ; sport:  22604 ; dport:  9090\n",
      "src:  192.168.1.15 ; sport:  22604 ; dport:  9090\n",
      "src:  155.137.209.52 ; sport:  46226 ; dport:  41249\n",
      "src:  155.137.209.52 ; sport:  46226 ; dport:  41249\n",
      "src:  155.137.209.52 ; sport:  46226 ; dport:  41249\n",
      "src:  155.137.209.52 ; sport:  46226 ; dport:  41249\n",
      "src:  155.137.209.52 ; sport:  46226 ; dport:  41249\n",
      "src:  192.168.1.15 ; sport:  22604 ; dport:  9090\n",
      "src:  192.168.1.15 ; sport:  22604 ; dport:  9090\n",
      "src:  192.168.1.15 ; sport:  22604 ; dport:  9090\n",
      "src:  192.168.1.15 ; sport:  22604 ; dport:  9090\n",
      "src:  192.168.1.15 ; sport:  22604 ; dport:  9090\n",
      "src:  61.79.23.181 ; sport:  15749 ; dport:  27436\n",
      "src:  61.79.23.181 ; sport:  15749 ; dport:  27436\n",
      "src:  61.79.23.181 ; sport:  15749 ; dport:  27436\n",
      "src:  61.79.23.181 ; sport:  15749 ; dport:  27436\n",
      "src:  61.79.23.181 ; sport:  15749 ; dport:  27436\n",
      "src:  192.168.1.15 ; sport:  22604 ; dport:  9090\n",
      "src:  192.168.1.15 ; sport:  22604 ; dport:  9090\n",
      "src:  192.168.1.15 ; sport:  22604 ; dport:  9090\n",
      "src:  192.168.1.15 ; sport:  22604 ; dport:  9090\n",
      "src:  29.132.151.243 ; sport:  17186 ; dport:  17419\n",
      "src:  29.132.151.243 ; sport:  17186 ; dport:  17419\n",
      "src:  29.132.151.243 ; sport:  17186 ; dport:  17419\n",
      "src:  29.132.151.243 ; sport:  17186 ; dport:  17419\n",
      "src:  29.132.151.243 ; sport:  17186 ; dport:  17419\n",
      "src:  192.168.1.15 ; sport:  22604 ; dport:  9090\n",
      "src:  192.168.1.15 ; sport:  22159 ; dport:  9090\n",
      "src:  192.168.1.15 ; sport:  22604 ; dport:  9090\n",
      "src:  192.168.1.15 ; sport:  22604 ; dport:  9090\n",
      "src:  192.168.1.15 ; sport:  22604 ; dport:  9090\n",
      "src:  62.125.220.218 ; sport:  41490 ; dport:  15922\n",
      "src:  62.125.220.218 ; sport:  41490 ; dport:  15922\n",
      "src:  62.125.220.218 ; sport:  41490 ; dport:  15922\n",
      "src:  62.125.220.218 ; sport:  41490 ; dport:  15922\n",
      "src:  62.125.220.218 ; sport:  41490 ; dport:  15922\n",
      "src:  192.168.1.15 ; sport:  22604 ; dport:  9090\n",
      "src:  192.168.1.15 ; sport:  22604 ; dport:  9090\n",
      "src:  192.168.1.15 ; sport:  22604 ; dport:  9090\n",
      "src:  192.168.1.15 ; sport:  22604 ; dport:  9090\n",
      "src:  166.208.230.211 ; sport:  10851 ; dport:  22949\n",
      "src:  166.208.230.211 ; sport:  10851 ; dport:  22949\n",
      "src:  166.208.230.211 ; sport:  10851 ; dport:  22949\n",
      "src:  166.208.230.211 ; sport:  10851 ; dport:  22949\n",
      "src:  166.208.230.211 ; sport:  10851 ; dport:  22949\n",
      "src:  192.168.1.15 ; sport:  22604 ; dport:  9090\n",
      "src:  192.168.1.15 ; sport:  22604 ; dport:  9090\n",
      "src:  192.168.1.15 ; sport:  22604 ; dport:  9090\n",
      "src:  192.168.1.15 ; sport:  22604 ; dport:  9090\n",
      "src:  153.175.186.37 ; sport:  26164 ; dport:  41943\n",
      "src:  153.175.186.37 ; sport:  26164 ; dport:  41943\n",
      "src:  153.175.186.37 ; sport:  26164 ; dport:  41943\n",
      "src:  153.175.186.37 ; sport:  26164 ; dport:  41943\n",
      "src:  153.175.186.37 ; sport:  26164 ; dport:  41943\n",
      "src:  192.168.1.15 ; sport:  22604 ; dport:  9090\n",
      "src:  192.168.1.15 ; sport:  22604 ; dport:  9090\n",
      "src:  192.168.1.15 ; sport:  22604 ; dport:  9090\n",
      "src:  192.168.1.15 ; sport:  22604 ; dport:  9090\n",
      "src:  192.168.1.15 ; sport:  22604 ; dport:  9090\n",
      "src:  9.115.209.215 ; sport:  44263 ; dport:  37525\n",
      "src:  9.115.209.215 ; sport:  44263 ; dport:  37525\n",
      "src:  9.115.209.215 ; sport:  44263 ; dport:  37525\n",
      "src:  9.115.209.215 ; sport:  44263 ; dport:  37525\n",
      "src:  9.115.209.215 ; sport:  44263 ; dport:  37525\n",
      "src:  192.168.1.15 ; sport:  22604 ; dport:  9090\n",
      "src:  192.168.1.15 ; sport:  22604 ; dport:  9090\n",
      "src:  192.168.1.15 ; sport:  22604 ; dport:  9090\n",
      "src:  192.168.1.15 ; sport:  22604 ; dport:  9090\n",
      "src:  57.11.46.109 ; sport:  54171 ; dport:  56915\n",
      "src:  57.11.46.109 ; sport:  54171 ; dport:  56915\n",
      "src:  57.11.46.109 ; sport:  54171 ; dport:  56915\n",
      "src:  57.11.46.109 ; sport:  54171 ; dport:  56915\n",
      "src:  57.11.46.109 ; sport:  54171 ; dport:  56915\n",
      "src:  192.168.1.15 ; sport:  22604 ; dport:  9090\n"
     ]
    },
    {
     "ename": "KeyboardInterrupt",
     "evalue": "",
     "output_type": "error",
     "traceback": [
      "\u001b[0;31m---------------------------------------------------------------------------\u001b[0m",
      "\u001b[0;31mKeyboardInterrupt\u001b[0m                         Traceback (most recent call last)",
      "\u001b[0;32m<ipython-input-5-589afd10a23c>\u001b[0m in \u001b[0;36m<module>\u001b[0;34m()\u001b[0m\n\u001b[1;32m      3\u001b[0m     pkt_trace = sniff(iface=\"br0\",\n\u001b[1;32m      4\u001b[0m                       \u001b[0mtimeout\u001b[0m \u001b[0;34m=\u001b[0m \u001b[0mINTERVAL_SEC\u001b[0m\u001b[0;34m,\u001b[0m \u001b[0mfilter\u001b[0m\u001b[0;34m=\u001b[0m\u001b[0mFILTER\u001b[0m\u001b[0;34m,\u001b[0m\u001b[0;34m\u001b[0m\u001b[0m\n\u001b[0;32m----> 5\u001b[0;31m                       prn=lambda x: packet_processing(x))\n\u001b[0m\u001b[1;32m      6\u001b[0m     \u001b[0mshift_flows\u001b[0m\u001b[0;34m(\u001b[0m\u001b[0;34m)\u001b[0m\u001b[0;34m\u001b[0m\u001b[0m\n\u001b[1;32m      7\u001b[0m \u001b[0;34m\u001b[0m\u001b[0m\n",
      "\u001b[0;32m/usr/local/lib/python3.6/dist-packages/kamene/sendrecv.py\u001b[0m in \u001b[0;36msniff\u001b[0;34m(count, store, offline, prn, lfilter, L2socket, timeout, opened_socket, stop_filter, exceptions, stop_callback, *arg, **karg)\u001b[0m\n\u001b[1;32m    620\u001b[0m     \u001b[0;32mfinally\u001b[0m\u001b[0;34m:\u001b[0m\u001b[0;34m\u001b[0m\u001b[0m\n\u001b[1;32m    621\u001b[0m         \u001b[0;32mif\u001b[0m \u001b[0mopened_socket\u001b[0m \u001b[0;32mis\u001b[0m \u001b[0;32mNone\u001b[0m\u001b[0;34m:\u001b[0m\u001b[0;34m\u001b[0m\u001b[0m\n\u001b[0;32m--> 622\u001b[0;31m             \u001b[0ms\u001b[0m\u001b[0;34m.\u001b[0m\u001b[0mclose\u001b[0m\u001b[0;34m(\u001b[0m\u001b[0;34m)\u001b[0m\u001b[0;34m\u001b[0m\u001b[0m\n\u001b[0m\u001b[1;32m    623\u001b[0m \u001b[0;34m\u001b[0m\u001b[0m\n\u001b[1;32m    624\u001b[0m     \u001b[0;32mreturn\u001b[0m \u001b[0mplist\u001b[0m\u001b[0;34m.\u001b[0m\u001b[0mPacketList\u001b[0m\u001b[0;34m(\u001b[0m\u001b[0mlst\u001b[0m\u001b[0;34m,\u001b[0m\u001b[0;34m\"Sniffed\"\u001b[0m\u001b[0;34m)\u001b[0m\u001b[0;34m\u001b[0m\u001b[0m\n",
      "\u001b[0;32m/usr/local/lib/python3.6/dist-packages/kamene/arch/linux.py\u001b[0m in \u001b[0;36mclose\u001b[0;34m(self)\u001b[0m\n\u001b[1;32m    498\u001b[0m             \u001b[0;32mfor\u001b[0m \u001b[0mi\u001b[0m \u001b[0;32min\u001b[0m \u001b[0mself\u001b[0m\u001b[0;34m.\u001b[0m\u001b[0miff\u001b[0m\u001b[0;34m:\u001b[0m\u001b[0;34m\u001b[0m\u001b[0m\n\u001b[1;32m    499\u001b[0m                 \u001b[0mset_promisc\u001b[0m\u001b[0;34m(\u001b[0m\u001b[0mself\u001b[0m\u001b[0;34m.\u001b[0m\u001b[0mins\u001b[0m\u001b[0;34m,\u001b[0m \u001b[0mi\u001b[0m\u001b[0;34m,\u001b[0m \u001b[0;36m0\u001b[0m\u001b[0;34m)\u001b[0m\u001b[0;34m\u001b[0m\u001b[0m\n\u001b[0;32m--> 500\u001b[0;31m         \u001b[0mSuperSocket\u001b[0m\u001b[0;34m.\u001b[0m\u001b[0mclose\u001b[0m\u001b[0;34m(\u001b[0m\u001b[0mself\u001b[0m\u001b[0;34m)\u001b[0m\u001b[0;34m\u001b[0m\u001b[0m\n\u001b[0m\u001b[1;32m    501\u001b[0m \u001b[0;34m\u001b[0m\u001b[0m\n\u001b[1;32m    502\u001b[0m     \u001b[0;32mdef\u001b[0m \u001b[0mrecv\u001b[0m\u001b[0;34m(\u001b[0m\u001b[0mself\u001b[0m\u001b[0;34m,\u001b[0m \u001b[0mx\u001b[0m\u001b[0;34m=\u001b[0m\u001b[0mMTU\u001b[0m\u001b[0;34m)\u001b[0m\u001b[0;34m:\u001b[0m\u001b[0;34m\u001b[0m\u001b[0m\n",
      "\u001b[0;32m/usr/local/lib/python3.6/dist-packages/kamene/supersocket.py\u001b[0m in \u001b[0;36mclose\u001b[0;34m(self)\u001b[0m\n\u001b[1;32m     45\u001b[0m                 \u001b[0mself\u001b[0m\u001b[0;34m.\u001b[0m\u001b[0mouts\u001b[0m\u001b[0;34m.\u001b[0m\u001b[0mclose\u001b[0m\u001b[0;34m(\u001b[0m\u001b[0;34m)\u001b[0m\u001b[0;34m\u001b[0m\u001b[0m\n\u001b[1;32m     46\u001b[0m         \u001b[0;32mif\u001b[0m \u001b[0mself\u001b[0m\u001b[0;34m.\u001b[0m\u001b[0mins\u001b[0m \u001b[0;32mand\u001b[0m \u001b[0mself\u001b[0m\u001b[0;34m.\u001b[0m\u001b[0mins\u001b[0m\u001b[0;34m.\u001b[0m\u001b[0mfileno\u001b[0m\u001b[0;34m(\u001b[0m\u001b[0;34m)\u001b[0m \u001b[0;34m!=\u001b[0m \u001b[0;34m-\u001b[0m\u001b[0;36m1\u001b[0m\u001b[0;34m:\u001b[0m\u001b[0;34m\u001b[0m\u001b[0m\n\u001b[0;32m---> 47\u001b[0;31m             \u001b[0mself\u001b[0m\u001b[0;34m.\u001b[0m\u001b[0mins\u001b[0m\u001b[0;34m.\u001b[0m\u001b[0mclose\u001b[0m\u001b[0;34m(\u001b[0m\u001b[0;34m)\u001b[0m\u001b[0;34m\u001b[0m\u001b[0m\n\u001b[0m\u001b[1;32m     48\u001b[0m     \u001b[0;32mdef\u001b[0m \u001b[0msr\u001b[0m\u001b[0;34m(\u001b[0m\u001b[0mself\u001b[0m\u001b[0;34m,\u001b[0m \u001b[0;34m*\u001b[0m\u001b[0margs\u001b[0m\u001b[0;34m,\u001b[0m \u001b[0;34m**\u001b[0m\u001b[0mkargs\u001b[0m\u001b[0;34m)\u001b[0m\u001b[0;34m:\u001b[0m\u001b[0;34m\u001b[0m\u001b[0m\n\u001b[1;32m     49\u001b[0m         \u001b[0;32mreturn\u001b[0m \u001b[0msendrecv\u001b[0m\u001b[0;34m.\u001b[0m\u001b[0msndrcv\u001b[0m\u001b[0;34m(\u001b[0m\u001b[0mself\u001b[0m\u001b[0;34m,\u001b[0m \u001b[0;34m*\u001b[0m\u001b[0margs\u001b[0m\u001b[0;34m,\u001b[0m \u001b[0;34m**\u001b[0m\u001b[0mkargs\u001b[0m\u001b[0;34m)\u001b[0m\u001b[0;34m\u001b[0m\u001b[0m\n",
      "\u001b[0;32m/usr/lib/python3.6/socket.py\u001b[0m in \u001b[0;36mclose\u001b[0;34m(self)\u001b[0m\n\u001b[1;32m    415\u001b[0m         \u001b[0mself\u001b[0m\u001b[0;34m.\u001b[0m\u001b[0m_closed\u001b[0m \u001b[0;34m=\u001b[0m \u001b[0;32mTrue\u001b[0m\u001b[0;34m\u001b[0m\u001b[0m\n\u001b[1;32m    416\u001b[0m         \u001b[0;32mif\u001b[0m \u001b[0mself\u001b[0m\u001b[0;34m.\u001b[0m\u001b[0m_io_refs\u001b[0m \u001b[0;34m<=\u001b[0m \u001b[0;36m0\u001b[0m\u001b[0;34m:\u001b[0m\u001b[0;34m\u001b[0m\u001b[0m\n\u001b[0;32m--> 417\u001b[0;31m             \u001b[0mself\u001b[0m\u001b[0;34m.\u001b[0m\u001b[0m_real_close\u001b[0m\u001b[0;34m(\u001b[0m\u001b[0;34m)\u001b[0m\u001b[0;34m\u001b[0m\u001b[0m\n\u001b[0m\u001b[1;32m    418\u001b[0m \u001b[0;34m\u001b[0m\u001b[0m\n\u001b[1;32m    419\u001b[0m     \u001b[0;32mdef\u001b[0m \u001b[0mdetach\u001b[0m\u001b[0;34m(\u001b[0m\u001b[0mself\u001b[0m\u001b[0;34m)\u001b[0m\u001b[0;34m:\u001b[0m\u001b[0;34m\u001b[0m\u001b[0m\n",
      "\u001b[0;32m/usr/lib/python3.6/socket.py\u001b[0m in \u001b[0;36m_real_close\u001b[0;34m(self, _ss)\u001b[0m\n\u001b[1;32m    409\u001b[0m     \u001b[0;32mdef\u001b[0m \u001b[0m_real_close\u001b[0m\u001b[0;34m(\u001b[0m\u001b[0mself\u001b[0m\u001b[0;34m,\u001b[0m \u001b[0m_ss\u001b[0m\u001b[0;34m=\u001b[0m\u001b[0m_socket\u001b[0m\u001b[0;34m.\u001b[0m\u001b[0msocket\u001b[0m\u001b[0;34m)\u001b[0m\u001b[0;34m:\u001b[0m\u001b[0;34m\u001b[0m\u001b[0m\n\u001b[1;32m    410\u001b[0m         \u001b[0;31m# This function should not reference any globals. See issue #808164.\u001b[0m\u001b[0;34m\u001b[0m\u001b[0;34m\u001b[0m\u001b[0m\n\u001b[0;32m--> 411\u001b[0;31m         \u001b[0m_ss\u001b[0m\u001b[0;34m.\u001b[0m\u001b[0mclose\u001b[0m\u001b[0;34m(\u001b[0m\u001b[0mself\u001b[0m\u001b[0;34m)\u001b[0m\u001b[0;34m\u001b[0m\u001b[0m\n\u001b[0m\u001b[1;32m    412\u001b[0m \u001b[0;34m\u001b[0m\u001b[0m\n\u001b[1;32m    413\u001b[0m     \u001b[0;32mdef\u001b[0m \u001b[0mclose\u001b[0m\u001b[0;34m(\u001b[0m\u001b[0mself\u001b[0m\u001b[0;34m)\u001b[0m\u001b[0;34m:\u001b[0m\u001b[0;34m\u001b[0m\u001b[0m\n",
      "\u001b[0;31mKeyboardInterrupt\u001b[0m: "
     ]
    }
   ],
   "source": [
    "# Preparation stage\n",
    "for i in range(len(overlap_flows)):\n",
    "    pkt_trace = sniff(iface=\"br0\",\n",
    "                      timeout = INTERVAL_SEC, filter=FILTER,\n",
    "                      prn=lambda x: packet_processing(x))\n",
    "    shift_flows()\n",
    "    \n",
    "pkt_trace = sniff(iface=\"br0\",\n",
    "                  timeout = INTERVAL_SEC, filter=FILTER,\n",
    "                  prn=lambda x: packet_processing(x))\n",
    "H = map(calc_entropy, PARAMS)\n",
    "H_predict = map(predict_entropy, PARAMS)"
   ]
  },
  {
   "cell_type": "code",
   "execution_count": null,
   "metadata": {},
   "outputs": [],
   "source": [
    "import matplotlib.pyplot as plt\n",
    "from collections import Counter\n",
    "\n",
    "def draw_graphs():\n",
    "    while(True):\n",
    "        fig, ax = plt.subplots()\n",
    "        for i in range(len(PARAMS)):\n",
    "            ax.plot(timeline, H_archive[i], label=PARAMS[i]);\n",
    "        ax.plot(timeline, d_archive, label=\"Anomaly score\")\n",
    "        plt.pause(INTERVAL_SEC)"
   ]
  },
  {
   "cell_type": "code",
   "execution_count": 7,
   "metadata": {
    "scrolled": false
   },
   "outputs": [
    {
     "data": {
      "image/png": "[encoded data removed]",
      "text/plain": [
       "<matplotlib.figure.Figure at 0xaf5c7b10>"
      ]
     },
     "metadata": {},
     "output_type": "display_data"
    },
    {
     "data": {
      "image/png": "[encoded data removed]",
      "text/plain": [
       "<matplotlib.figure.Figure at 0xaf59c510>"
      ]
     },
     "metadata": {},
     "output_type": "display_data"
    },
    {
     "data": {
      "image/png": "[encoded data removed]",
      "text/plain": [
       "<matplotlib.figure.Figure at 0xadd017f0>"
      ]
     },
     "metadata": {},
     "output_type": "display_data"
    },
    {
     "data": {
      "image/png": "[encoded data removed]",
      "text/plain": [
       "<matplotlib.figure.Figure at 0xadc2b530>"
      ]
     },
     "metadata": {},
     "output_type": "display_data"
    },
    {
     "data": {
      "image/png": "[encoded data removed]",
      "text/plain": [
       "<matplotlib.figure.Figure at 0xadc69cb0>"
      ]
     },
     "metadata": {},
     "output_type": "display_data"
    },
    {
     "data": {
      "image/png": "[encoded data removed]",
      "text/plain": [
       "<matplotlib.figure.Figure at 0xadb97fb0>"
      ]
     },
     "metadata": {},
     "output_type": "display_data"
    },
    {
     "data": {
      "image/png": "[encoded data removed]",
      "text/plain": [
       "<matplotlib.figure.Figure at 0xadb5da50>"
      ]
     },
     "metadata": {},
     "output_type": "display_data"
    },
    {
     "ename": "KeyboardInterrupt",
     "evalue": "",
     "output_type": "error",
     "traceback": [
      "\u001b[0;31m---------------------------------------------------------------------------\u001b[0m",
      "\u001b[0;31mKeyboardInterrupt\u001b[0m                         Traceback (most recent call last)",
      "\u001b[0;32m<ipython-input-7-16c7feecfa2c>\u001b[0m in \u001b[0;36m<module>\u001b[0;34m()\u001b[0m\n\u001b[1;32m      1\u001b[0m \u001b[0;32mimport\u001b[0m \u001b[0mdatetime\u001b[0m\u001b[0;34m\u001b[0m\u001b[0m\n\u001b[1;32m      2\u001b[0m \u001b[0;34m\u001b[0m\u001b[0m\n\u001b[0;32m----> 3\u001b[0;31m \u001b[0mdraw_graphs\u001b[0m\u001b[0;34m(\u001b[0m\u001b[0;34m)\u001b[0m\u001b[0;34m\u001b[0m\u001b[0m\n\u001b[0m\u001b[1;32m      4\u001b[0m \u001b[0;32mwhile\u001b[0m\u001b[0;34m(\u001b[0m\u001b[0;32mTrue\u001b[0m\u001b[0;34m)\u001b[0m\u001b[0;34m:\u001b[0m\u001b[0;34m\u001b[0m\u001b[0m\n\u001b[1;32m      5\u001b[0m     pkt_trace = sniff(iface=\"br0\",\n",
      "\u001b[0;32m<ipython-input-6-3a95bf6f33ec>\u001b[0m in \u001b[0;36mdraw_graphs\u001b[0;34m()\u001b[0m\n\u001b[1;32m      8\u001b[0m             \u001b[0max\u001b[0m\u001b[0;34m.\u001b[0m\u001b[0mplot\u001b[0m\u001b[0;34m(\u001b[0m\u001b[0mtimeline\u001b[0m\u001b[0;34m,\u001b[0m \u001b[0mH_archive\u001b[0m\u001b[0;34m[\u001b[0m\u001b[0mi\u001b[0m\u001b[0;34m]\u001b[0m\u001b[0;34m,\u001b[0m \u001b[0mlabel\u001b[0m\u001b[0;34m=\u001b[0m\u001b[0mPARAMS\u001b[0m\u001b[0;34m[\u001b[0m\u001b[0mi\u001b[0m\u001b[0;34m]\u001b[0m\u001b[0;34m)\u001b[0m\u001b[0;34m;\u001b[0m\u001b[0;34m\u001b[0m\u001b[0m\n\u001b[1;32m      9\u001b[0m         \u001b[0max\u001b[0m\u001b[0;34m.\u001b[0m\u001b[0mplot\u001b[0m\u001b[0;34m(\u001b[0m\u001b[0mtimeline\u001b[0m\u001b[0;34m,\u001b[0m \u001b[0md_archive\u001b[0m\u001b[0;34m,\u001b[0m \u001b[0mlabel\u001b[0m\u001b[0;34m=\u001b[0m\u001b[0;34m\"Anomaly score\"\u001b[0m\u001b[0;34m)\u001b[0m\u001b[0;34m\u001b[0m\u001b[0m\n\u001b[0;32m---> 10\u001b[0;31m         \u001b[0mplt\u001b[0m\u001b[0;34m.\u001b[0m\u001b[0mpause\u001b[0m\u001b[0;34m(\u001b[0m\u001b[0mINTERVAL_SEC\u001b[0m\u001b[0;34m)\u001b[0m\u001b[0;34m\u001b[0m\u001b[0m\n\u001b[0m",
      "\u001b[0;32m/usr/lib/python3/dist-packages/matplotlib/pyplot.py\u001b[0m in \u001b[0;36mpause\u001b[0;34m(interval)\u001b[0m\n\u001b[1;32m    295\u001b[0m             \u001b[0mcanvas\u001b[0m\u001b[0;34m.\u001b[0m\u001b[0mdraw_idle\u001b[0m\u001b[0;34m(\u001b[0m\u001b[0;34m)\u001b[0m\u001b[0;34m\u001b[0m\u001b[0m\n\u001b[1;32m    296\u001b[0m         \u001b[0mshow\u001b[0m\u001b[0;34m(\u001b[0m\u001b[0mblock\u001b[0m\u001b[0;34m=\u001b[0m\u001b[0;32mFalse\u001b[0m\u001b[0;34m)\u001b[0m\u001b[0;34m\u001b[0m\u001b[0m\n\u001b[0;32m--> 297\u001b[0;31m         \u001b[0mcanvas\u001b[0m\u001b[0;34m.\u001b[0m\u001b[0mstart_event_loop\u001b[0m\u001b[0;34m(\u001b[0m\u001b[0minterval\u001b[0m\u001b[0;34m)\u001b[0m\u001b[0;34m\u001b[0m\u001b[0m\n\u001b[0m\u001b[1;32m    298\u001b[0m     \u001b[0;32melse\u001b[0m\u001b[0;34m:\u001b[0m\u001b[0;34m\u001b[0m\u001b[0m\n\u001b[1;32m    299\u001b[0m         \u001b[0mtime\u001b[0m\u001b[0;34m.\u001b[0m\u001b[0msleep\u001b[0m\u001b[0;34m(\u001b[0m\u001b[0minterval\u001b[0m\u001b[0;34m)\u001b[0m\u001b[0;34m\u001b[0m\u001b[0m\n",
      "\u001b[0;32m/usr/lib/python3/dist-packages/matplotlib/backend_bases.py\u001b[0m in \u001b[0;36mstart_event_loop\u001b[0;34m(self, timeout)\u001b[0m\n\u001b[1;32m   2452\u001b[0m         \u001b[0;32mwhile\u001b[0m \u001b[0mself\u001b[0m\u001b[0;34m.\u001b[0m\u001b[0m_looping\u001b[0m \u001b[0;32mand\u001b[0m \u001b[0mcounter\u001b[0m \u001b[0;34m*\u001b[0m \u001b[0mtimestep\u001b[0m \u001b[0;34m<\u001b[0m \u001b[0mtimeout\u001b[0m\u001b[0;34m:\u001b[0m\u001b[0;34m\u001b[0m\u001b[0m\n\u001b[1;32m   2453\u001b[0m             \u001b[0mself\u001b[0m\u001b[0;34m.\u001b[0m\u001b[0mflush_events\u001b[0m\u001b[0;34m(\u001b[0m\u001b[0;34m)\u001b[0m\u001b[0;34m\u001b[0m\u001b[0m\n\u001b[0;32m-> 2454\u001b[0;31m             \u001b[0mtime\u001b[0m\u001b[0;34m.\u001b[0m\u001b[0msleep\u001b[0m\u001b[0;34m(\u001b[0m\u001b[0mtimestep\u001b[0m\u001b[0;34m)\u001b[0m\u001b[0;34m\u001b[0m\u001b[0m\n\u001b[0m\u001b[1;32m   2455\u001b[0m             \u001b[0mcounter\u001b[0m \u001b[0;34m+=\u001b[0m \u001b[0;36m1\u001b[0m\u001b[0;34m\u001b[0m\u001b[0m\n\u001b[1;32m   2456\u001b[0m \u001b[0;34m\u001b[0m\u001b[0m\n",
      "\u001b[0;31mKeyboardInterrupt\u001b[0m: "
     ]
    }
   ],
   "source": [
    "import datetime\n",
    "\n",
    "draw_graphs()\n",
    "while(True):\n",
    "    pkt_trace = sniff(iface=\"br0\",\n",
    "                      timeout = INTERVAL_SEC, filter=FILTER,\n",
    "                      prn=lambda x: packet_processing(x))\n",
    "    \n",
    "    timeline.append(datetime.datetime.now())\n",
    "    for i in range(len(PARAMS)):\n",
    "        H_archive[i].append(H[i])\n",
    "    d_archive.append(d)\n",
    "    \n",
    "    H = map(calc_entropy, PARAMS)\n",
    "    err = map(calc_error, PARAMS)\n",
    "    d = sum(err)\n",
    "    H_predict = map(PARAMS, predict_entropy)"
   ]
  },
  {
   "cell_type": "code",
   "execution_count": null,
   "metadata": {},
   "outputs": [],
   "source": []
  }
 ],
 "metadata": {
  "kernelspec": {
   "display_name": "Python 3",
   "language": "python",
   "name": "python3"
  },
  "language_info": {
   "codemirror_mode": {
    "name": "ipython",
    "version": 3
   },
   "file_extension": ".py",
   "mimetype": "text/x-python",
   "name": "python",
   "nbconvert_exporter": "python",
   "pygments_lexer": "ipython3",
   "version": "3.6.5"
  }
 },
 "nbformat": 4,
 "nbformat_minor": 2
}

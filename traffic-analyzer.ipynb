{
 "cells": [
  {
   "cell_type": "code",
   "execution_count": null,
   "metadata": {},
   "outputs": [],
   "source": [
    "import logging\n",
    "logging.getLogger(\"kamene.runtime\").setLevel(logging.ERROR)\n",
    "from kamene.all import *\n",
    "from pynq_networking import *\n",
    "from math import log2 \n",
    "\n",
    "A = 0.1 # Smoothing factor\n",
    "WINDOW_SIZE = 30 # in seconds\n",
    "OVERLAP = 0.8\n",
    "INTERVAL_SEC = WINDOW_SIZE - WINDOW_SIZE*OVERLAP\n",
    "PARAMS = [\"src\", \"sport\", \"dport\"]\n",
    "LOCALHOST = \"192.168.1.6\"\n",
    "FILTER = \"dst\" + LOCALHOST +\" and (tcp or udp)\"\n",
    "\n",
    "# Observed entropies\n",
    "H = []\n",
    "H_archive = [[] for i in range(len(PARAMS))]\n",
    "\n",
    "# Predicted entropies\n",
    "H_predict = []\n",
    "\n",
    "# Parameters entropy prediction error\n",
    "err = []\n",
    "\n",
    "d = 0 # Anomaly score\n",
    "d_archive = []\n",
    "\n",
    "timeline = []"
   ]
  },
  {
   "cell_type": "code",
   "execution_count": null,
   "metadata": {},
   "outputs": [],
   "source": [
    "overlap_flows = [[] for i in range(int(OVERLAP/(1-OVERLAP)))]\n",
    "overlap_flows_count = [[] for i in range(int(OVERLAP/(1-OVERLAP)))]\n",
    "overlap_flows_pkts = [0 for i in range(int(OVERLAP/(1-OVERLAP)))]\n",
    "current_flows = []\n",
    "current_flows_count = []\n",
    "current_flows_pkts = 0\n",
    "def shift_flows():\n",
    "    for i in range(len(overlap_flows)-1):\n",
    "        overlap_flows[i] = overlap_flows[i+1]\n",
    "        overlap_flows_count[i] = overlap_flows_count[i+1]\n",
    "        overlap_flows_pkts[i] = overlap_flows_pkts[i+1]\n",
    "    overlap_flows[len(overlap_flows)-1] = current_flows\n",
    "    overlap_flows[len(overlap_flows)-1] = current_flows_count\n",
    "    overlap_flows_pkts[len(overlap_flows)-1] = current_flows_pkts"
   ]
  },
  {
   "cell_type": "code",
   "execution_count": null,
   "metadata": {},
   "outputs": [],
   "source": [
    "def packet_processing(packet):\n",
    "    global current_flows_pkts\n",
    "    current_flows_pkts = current_flows_pkts + 1\n",
    "    flow = {}\n",
    "    if(IP in packet):\n",
    "        #print('src: ',  packet[IP].src, '; sport: ', packet[IP].sport, '; dport: ', packet[IP].dport)\n",
    "        flow = {'src': packet[IP].src, 'sport': packet[IP].sport, 'dport': packet[IP].dport}            \n",
    "    if(flow != {} and (flow not in current_flows)):\n",
    "        current_flows.append(flow)\n",
    "        current_flows_count.append(1)\n",
    "    else:\n",
    "        i = current_flows.index(flow)\n",
    "        current_flows_count[i] = current_flows_count[i] + 1"
   ]
  },
  {
   "cell_type": "code",
   "execution_count": null,
   "metadata": {},
   "outputs": [],
   "source": [
    "def calc_entropy(param):\n",
    "    values = []\n",
    "    freqs = []\n",
    "    for i in len(overlap_flows):\n",
    "        for j in len(overlap_flows[i]):\n",
    "            if(overlap_flows[i][j][param] not in values):\n",
    "                values.append(overlap_flows[i][j][param])\n",
    "                freqs.append(1)\n",
    "            else:\n",
    "                index = values.index(overlap_flows[i][j][param])\n",
    "                freqs[index] = freq[index] + overlap_flows_count[i][j]\n",
    "    entropy = 0\n",
    "    for i in range(len(freq)):\n",
    "        p = freqs[i][param] / current_packets\n",
    "        entropy = entropy - p*log2(p)\n",
    "    entropy = entropy / log2(current_packets) # Normalize entropy\n",
    "    return entropy\n",
    "    \n",
    "def predict_entropy(param):\n",
    "    return H_predict[PARAMS.index(param)]*(1-A) + H[PARAMS.index(param)]*A\n",
    "    \n",
    "def calc_error(params):\n",
    "    return abs(H_predict[PARAMS.index(param)]-H[PARAMS.index(param)])"
   ]
  },
  {
   "cell_type": "code",
   "execution_count": null,
   "metadata": {
    "scrolled": true
   },
   "outputs": [],
   "source": [
    "# Preparation stage\n",
    "for i in range(len(overlap_flows)):\n",
    "    pkt_trace = sniff(iface=\"br0\",\n",
    "                      timeout = INTERVAL_SEC, filter=FILTER,\n",
    "                      prn=lambda x: packet_processing(x))\n",
    "    shift_flows()\n",
    "    \n",
    "pkt_trace = sniff(iface=\"br0\",\n",
    "                  timeout = INTERVAL_SEC, filter=FILTER,\n",
    "                  prn=lambda x: packet_processing(x))\n",
    "H = map(calc_entropy, PARAMS)\n",
    "H_predict = map(predict_entropy, PARAMS)"
   ]
  },
  {
   "cell_type": "code",
   "execution_count": null,
   "metadata": {},
   "outputs": [],
   "source": [
    "import matplotlib.pyplot as plt\n",
    "from collections import Counter\n",
    "\n",
    "def draw_graphs():\n",
    "    while(True):\n",
    "        fig, ax = plt.subplots()\n",
    "        for i in range(len(PARAMS)):\n",
    "            ax.plot(timeline, H_archive[i], label=PARAMS[i]);\n",
    "        ax.plot(timeline, d_archive, label=\"Anomaly score\")\n",
    "        plt.pause(INTERVAL_SEC)"
   ]
  },
  {
   "cell_type": "code",
   "execution_count": null,
   "metadata": {
    "scrolled": true
   },
   "outputs": [],
   "source": [
    "import datetime\n",
    "\n",
    "draw_graphs()\n",
    "while(True):\n",
    "    pkt_trace = sniff(iface=\"br0\",\n",
    "                      timeout = INTERVAL_SEC, filter=FILTER,\n",
    "                      prn=lambda x: packet_processing(x))\n",
    "    \n",
    "    timeline.append(datetime.datetime.now())\n",
    "    for i in range(len(PARAMS)):\n",
    "        H_archive[i].append(H[i])\n",
    "    d_archive.append(d)\n",
    "    \n",
    "    H = map(calc_entropy, PARAMS)\n",
    "    err = map(calc_error, PARAMS)\n",
    "    d = sum(err)\n",
    "    H_predict = map(PARAMS, predict_entropy)"
   ]
  },
  {
   "cell_type": "code",
   "execution_count": null,
   "metadata": {},
   "outputs": [],
   "source": []
  }
 ],
 "metadata": {
  "kernelspec": {
   "display_name": "Python 3",
   "language": "python",
   "name": "python3"
  },
  "language_info": {
   "codemirror_mode": {
    "name": "ipython",
    "version": 3
   },
   "file_extension": ".py",
   "mimetype": "text/x-python",
   "name": "python",
   "nbconvert_exporter": "python",
   "pygments_lexer": "ipython3",
   "version": "3.6.5"
  }
 },
 "nbformat": 4,
 "nbformat_minor": 2
}
